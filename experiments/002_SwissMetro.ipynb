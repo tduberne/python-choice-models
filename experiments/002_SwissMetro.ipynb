{
 "cells": [
  {
   "cell_type": "code",
   "execution_count": null,
   "metadata": {},
   "outputs": [],
   "source": [
    "import pandas as pd\n",
    "import numpy as np\n",
    "import logit"
   ]
  },
  {
   "cell_type": "code",
   "execution_count": null,
   "metadata": {},
   "outputs": [],
   "source": [
    "dataset = pd.read_csv('swissmetro.dat', sep='\\t').query('(PURPOSE == 1 or PURPOSE == 3) and CHOICE != 0')\n",
    "dataset.head()"
   ]
  },
  {
   "cell_type": "code",
   "execution_count": null,
   "metadata": {},
   "outputs": [],
   "source": [
    "# This will be the initial starting point.\n",
    "betas = logit.Betas(asc_car=0, asc_train=0, asc_sm=0, time=0, cost=0)\n",
    "\n",
    "utilities = {\n",
    "    # train\n",
    "    1: lambda b, d: betas.get('asc_train', b) +\n",
    "                        betas.get('time', b) * d['TRAIN_TT'] +\n",
    "                        betas.get('cost', b) * d['TRAIN_CO'],\n",
    "    # SwissMetro\n",
    "    2: lambda b, d: betas.get('asc_sm', b) +\n",
    "                        betas.get('time', b) * d['SM_TT'] +\n",
    "                        betas.get('cost', b) * d['SM_CO'],\n",
    "    # Car\n",
    "    3: lambda b, d: betas.get('asc_car', b) +\n",
    "                        betas.get('time', b) * d['CAR_TT'] +\n",
    "                        betas.get('cost', b) * d['CAR_CO']\n",
    "}\n"
   ]
  },
  {
   "cell_type": "code",
   "execution_count": null,
   "metadata": {},
   "outputs": [],
   "source": [
    "estimates = logit.estimate_logit(betas, utilities, dataset.CHOICE, dataset)"
   ]
  },
  {
   "cell_type": "code",
   "execution_count": null,
   "metadata": {},
   "outputs": [],
   "source": [
    "estimates"
   ]
  },
  {
   "cell_type": "code",
   "execution_count": null,
   "metadata": {},
   "outputs": [],
   "source": []
  }
 ],
 "metadata": {
  "kernelspec": {
   "display_name": "Python 3",
   "language": "python",
   "name": "python3"
  },
  "language_info": {
   "codemirror_mode": {
    "name": "ipython",
    "version": 3
   },
   "file_extension": ".py",
   "mimetype": "text/x-python",
   "name": "python",
   "nbconvert_exporter": "python",
   "pygments_lexer": "ipython3",
   "version": "3.6.6"
  }
 },
 "nbformat": 4,
 "nbformat_minor": 2
}
