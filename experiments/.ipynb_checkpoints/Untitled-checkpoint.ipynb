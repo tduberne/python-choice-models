{
 "cells": [
  {
   "cell_type": "code",
   "execution_count": null,
   "metadata": {},
   "outputs": [],
   "source": [
    "import pandas as pd\n",
    "import numpy as np\n",
    "import scipy.optimize as opt\n",
    "from itertools import count"
   ]
  },
  {
   "cell_type": "code",
   "execution_count": null,
   "metadata": {
    "slideshow": {
     "slide_type": "-"
    }
   },
   "outputs": [],
   "source": [
    "dataset = pd.DataFrame({'age': [1,2,1,1,1,2,1],\n",
    "                        'gender': ['f','m','m','m','f','f','f'],\n",
    "                        'choice': [0,0,1,1,1,1,0],\n",
    "                        'tt_1': np.random.rand(7),\n",
    "                        'tt_2': np.random.rand(7)})"
   ]
  },
  {
   "cell_type": "code",
   "execution_count": null,
   "metadata": {},
   "outputs": [],
   "source": [
    "# Generate the indices of the betas, to retrieve their values from the array used by the optimizer\n",
    "# The optimizer unfortunately does not handle named data structures\n",
    "index = count()\n",
    "TT = next(index)\n",
    "\n",
    "utilities = {\n",
    "    0: lambda b, d: b[TT] * d['tt_1'],\n",
    "    1: lambda b, d: b[TT] * d['tt_2']\n",
    "}\n",
    "\n",
    "def create_betas(**kwargs):\n",
    "    return pd.Series(list(kwargs.values()),\n",
    "                     kwargs.keys(),\n",
    "                     dtype=np.float64)\n",
    "    \n",
    "betas = create_betas(tt=0)"
   ]
  },
  {
   "cell_type": "code",
   "execution_count": null,
   "metadata": {},
   "outputs": [],
   "source": []
  },
  {
   "cell_type": "code",
   "execution_count": null,
   "metadata": {},
   "outputs": [],
   "source": [
    "def neg_log_likelihood(betas, utilities, choices, df):\n",
    "    print(betas)\n",
    "    if len(choices) != df.shape[0]:\n",
    "        raise Exception('number of choices {} is different from number of observations {}'.format(len(choices), df.shape[0]))\n",
    "    \n",
    "    utility_values = pd.DataFrame({c: utilities[c](betas, df) for c in utilities.keys()})\n",
    "    chosen_utility = utility_values.lookup(range(len(choices)), choices)\n",
    "    \n",
    "    # Numerical trick to avoid overflows in the sum of exponentials\n",
    "    max_util = utility_values.max().max()\n",
    "    logsums = max_util + np.log(np.exp(utility_values - max_util).sum(axis=1))\n",
    "    loglikelihoods = chosen_utility - logsums\n",
    "    \n",
    "    # the function is passed to a *minimizer*, so do not forget to add a minus!\n",
    "    return -np.sum(loglikelihoods)"
   ]
  },
  {
   "cell_type": "code",
   "execution_count": null,
   "metadata": {},
   "outputs": [],
   "source": [
    "opt.minimize(neg_log_likelihood, x0=[0], args=(utilities, dataset.choice, dataset))"
   ]
  },
  {
   "cell_type": "code",
   "execution_count": null,
   "metadata": {},
   "outputs": [],
   "source": []
  }
 ],
 "metadata": {
  "kernelspec": {
   "display_name": "Python 3",
   "language": "python",
   "name": "python3"
  },
  "language_info": {
   "codemirror_mode": {
    "name": "ipython",
    "version": 3
   },
   "file_extension": ".py",
   "mimetype": "text/x-python",
   "name": "python",
   "nbconvert_exporter": "python",
   "pygments_lexer": "ipython3",
   "version": "3.6.6"
  }
 },
 "nbformat": 4,
 "nbformat_minor": 2
}
