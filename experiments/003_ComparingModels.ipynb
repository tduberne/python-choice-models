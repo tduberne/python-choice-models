{
 "cells": [
  {
   "cell_type": "code",
   "execution_count": null,
   "metadata": {
    "attributes": {
     "classes": [],
     "id": "",
     "n": "1"
    }
   },
   "outputs": [],
   "source": [
    "import pandas as pd\n",
    "import numpy as np\n",
    "import loglikelihood_utils as ll\n",
    "import logit"
   ]
  },
  {
   "cell_type": "markdown",
   "metadata": {},
   "source": [
    "This notebook demonstrates how to compare different models using the likelihood ratio test.\n",
    "This test allows to check that the improvements in likelihood that come from a more complex specification\n",
    "do not simply come from the additional degrees of freedom offered to the model."
   ]
  },
  {
   "cell_type": "markdown",
   "metadata": {},
   "source": [
    "# Estimate a First Model"
   ]
  },
  {
   "cell_type": "code",
   "execution_count": null,
   "metadata": {
    "attributes": {
     "classes": [],
     "id": "",
     "n": "2"
    }
   },
   "outputs": [],
   "source": [
    "# Read and transform dataset in one go\n",
    "dataset = pd.read_csv('swissmetro.dat', sep='\\t')\\\n",
    "    .query('(PURPOSE == 1 or PURPOSE == 3) and CHOICE != 0')\\\n",
    "    .assign(car_av_sp = lambda df: ll.avail(df.CAR_AV * (df.SP != 0)),\n",
    "            train_av_sp = lambda df: ll.avail(df.TRAIN_AV * (df.SP != 0)),\n",
    "            sm_av = lambda df: ll.avail(df.SM_AV),\n",
    "            train_cost = lambda df: df.TRAIN_CO * (df.GA == 0),\n",
    "            sm_cost = lambda df: df.SM_CO * (df.GA == 0))\n",
    "dataset.head()"
   ]
  },
  {
   "cell_type": "code",
   "execution_count": null,
   "metadata": {
    "attributes": {
     "classes": [],
     "id": "",
     "n": "3"
    }
   },
   "outputs": [],
   "source": [
    "# This will be the initial starting point.\n",
    "betas = ll.Betas(asc_car=0.,\n",
    "                    asc_train=0.,\n",
    "                    asc_sm=ll.Beta(0., fixed=True),\n",
    "                    time=0.,\n",
    "                    cost=0.)\n",
    "\n",
    "utilities = {\n",
    "    # train\n",
    "    1: lambda b, d: betas.get('asc_train', b) +\n",
    "                        betas.get('time', b) * d['TRAIN_TT'] / 100. +\n",
    "                        betas.get('cost', b) * d['train_cost'] / 100. +\n",
    "                        d['train_av_sp'],\n",
    "    # SwissMetro\n",
    "    2: lambda b, d: betas.get('asc_sm', b) +\n",
    "                        betas.get('time', b) * d['SM_TT'] / 100. +\n",
    "                        betas.get('cost', b) * d['sm_cost'] / 100. +\n",
    "                        d['sm_av'],\n",
    "    # Car\n",
    "    3: lambda b, d: betas.get('asc_car', b) +\n",
    "                        betas.get('time', b) * d['CAR_TT'] / 100. +\n",
    "                        betas.get('cost', b) * d['CAR_CO'] / 100. +\n",
    "                        d['car_av_sp']\n",
    "}"
   ]
  },
  {
   "cell_type": "code",
   "execution_count": null,
   "metadata": {
    "attributes": {
     "classes": [],
     "id": "",
     "n": "4"
    }
   },
   "outputs": [],
   "source": [
    "estimates = logit.estimate(betas, utilities, dataset.CHOICE, dataset)"
   ]
  },
  {
   "cell_type": "code",
   "execution_count": null,
   "metadata": {
    "attributes": {
     "classes": [],
     "id": "",
     "n": "5"
    }
   },
   "outputs": [],
   "source": [
    "estimates"
   ]
  },
  {
   "cell_type": "markdown",
   "metadata": {},
   "source": [
    "# Estimate a Second Model\n",
    "\n",
    "Maybe adding a log term for time and cost works better?\n",
    "\n",
    "We simply add terms to the utilities, so the previous model is a resticted version of the new one"
   ]
  },
  {
   "cell_type": "code",
   "execution_count": null,
   "metadata": {
    "attributes": {
     "classes": [],
     "id": "",
     "n": "3"
    }
   },
   "outputs": [],
   "source": [
    "# This will be the initial starting point.\n",
    "betas_ext = ll.Betas(asc_car=0.,\n",
    "                    asc_train=0.,\n",
    "                    asc_sm=ll.Beta(0., fixed=True),\n",
    "                    time=0.,\n",
    "                    cost=0.,\n",
    "                    logtime=0.,\n",
    "                    logcost=0.)\n",
    "\n",
    "\n",
    "utilities_ext = {\n",
    "    # train\n",
    "    1: lambda b, d: betas_ext.get('asc_train', b) +\n",
    "                        betas_ext.get('time', b) * d['TRAIN_TT'] / 100. +\n",
    "                        betas_ext.get('cost', b) * d['train_cost'] / 100. +\n",
    "                        betas_ext.get('logtime', b) * np.log(d['TRAIN_TT'] + 1) +\n",
    "                        betas_ext.get('logcost', b) * np.log(d['train_cost'] + 1) +\n",
    "                        d['train_av_sp'],\n",
    "    # SwissMetro\n",
    "    2: lambda b, d: betas_ext.get('asc_sm', b) +\n",
    "                        betas_ext.get('time', b) * d['SM_TT'] / 100. +\n",
    "                        betas_ext.get('cost', b) * d['sm_cost'] / 100. +\n",
    "                        betas_ext.get('logtime', b) * np.log(d['SM_TT'] + 1) +\n",
    "                        betas_ext.get('logcost', b) * np.log(d['sm_cost'] + 1) +\n",
    "                        d['sm_av'],\n",
    "    # Car\n",
    "    3: lambda b, d: betas_ext.get('asc_car', b) +\n",
    "                        betas_ext.get('time', b) * d['CAR_TT'] / 100. +\n",
    "                        betas_ext.get('cost', b) * d['CAR_CO'] / 100. +\n",
    "                        betas_ext.get('logtime', b) * np.log(d['CAR_TT'] + 1) +\n",
    "                        betas_ext.get('logcost', b) * np.log(d['CAR_CO'] + 1) +\n",
    "                        d['car_av_sp']\n",
    "}"
   ]
  },
  {
   "cell_type": "code",
   "execution_count": null,
   "metadata": {},
   "outputs": [],
   "source": [
    "estimates_ext = logit.estimate(betas_ext, utilities_ext, dataset.CHOICE, dataset)"
   ]
  },
  {
   "cell_type": "code",
   "execution_count": null,
   "metadata": {},
   "outputs": [],
   "source": [
    "estimates_ext"
   ]
  },
  {
   "cell_type": "code",
   "execution_count": null,
   "metadata": {},
   "outputs": [],
   "source": [
    "ll.likelihood_ratio_p_value(estimates, estimates_ext)"
   ]
  },
  {
   "cell_type": "markdown",
   "metadata": {},
   "source": [
    "Model is indeed better"
   ]
  },
  {
   "cell_type": "markdown",
   "metadata": {},
   "source": [
    "# Estimate a Third Model\n",
    "\n",
    "Ok, so adding a log term is better than only linear terms. Do the linear terms actually bring something?\n",
    "\n",
    "We remove the linear terms from the previous model, creating a restricted version.\n",
    "\n",
    "Note that this new model **cannot** be compared to the initial model, as one cannot go from one of the models to the others by imposing constraints on parameters."
   ]
  },
  {
   "cell_type": "code",
   "execution_count": null,
   "metadata": {
    "attributes": {
     "classes": [],
     "id": "",
     "n": "3"
    }
   },
   "outputs": [],
   "source": [
    "# This will be the initial starting point.\n",
    "betas_log = ll.Betas(asc_car=0.,\n",
    "                    asc_train=0.,\n",
    "                    asc_sm=ll.Beta(0., fixed=True),\n",
    "                    logtime=0.,\n",
    "                    logcost=0.)\n",
    "\n",
    "\n",
    "utilities_log = {\n",
    "    # train\n",
    "    1: lambda b, d: betas_log.get('asc_train', b) +\n",
    "                        betas_log.get('logtime', b) * np.log(d['TRAIN_TT'] + 1) +\n",
    "                        betas_log.get('logcost', b) * np.log(d['train_cost'] + 1) +\n",
    "                        d['train_av_sp'],\n",
    "    # SwissMetro\n",
    "    2: lambda b, d: betas_log.get('asc_sm', b) +\n",
    "                        betas_log.get('logtime', b) * np.log(d['SM_TT'] + 1) +\n",
    "                        betas_log.get('logcost', b) * np.log(d['sm_cost'] + 1) +\n",
    "                        d['sm_av'],\n",
    "    # Car\n",
    "    3: lambda b, d: betas_log.get('asc_car', b) +\n",
    "                        betas_log.get('logtime', b) * np.log(d['CAR_TT'] + 1) +\n",
    "                        betas_log.get('logcost', b) * np.log(d['CAR_CO'] + 1) +\n",
    "                        d['car_av_sp']\n",
    "}"
   ]
  },
  {
   "cell_type": "code",
   "execution_count": null,
   "metadata": {},
   "outputs": [],
   "source": [
    "estimates_log = logit.estimate(betas_log, utilities_log, dataset.CHOICE, dataset)"
   ]
  },
  {
   "cell_type": "code",
   "execution_count": null,
   "metadata": {},
   "outputs": [],
   "source": [
    "estimates_log"
   ]
  },
  {
   "cell_type": "code",
   "execution_count": null,
   "metadata": {},
   "outputs": [],
   "source": [
    "ll.likelihood_ratio_p_value(estimates_log, estimates_ext)"
   ]
  },
  {
   "cell_type": "markdown",
   "metadata": {},
   "source": [
    "Yes, the linear terms also bring something"
   ]
  },
  {
   "cell_type": "markdown",
   "metadata": {},
   "source": [
    "# Example of an Extended Model That Does Not Bring Improvement\n",
    "\n",
    "Until now, the extended model was always better to a high degree of confidence.\n",
    "This does not have to be the case (and this is the reason we do a test in the first place).\n",
    "To exemplify this, we will now specify a model that cannot bring anything, by construction:\n",
    "we will add dependence on a random variable, that we will name \"phase of the moon\"."
   ]
  },
  {
   "cell_type": "code",
   "execution_count": null,
   "metadata": {},
   "outputs": [],
   "source": [
    "dataset_moon = dataset.assign(phase_moon=np.random.rand(dataset.shape[0]))"
   ]
  },
  {
   "cell_type": "code",
   "execution_count": null,
   "metadata": {},
   "outputs": [],
   "source": [
    "# This will be the initial starting point.\n",
    "betas_moon = ll.Betas(asc_car=0.,\n",
    "                asc_train=0.,\n",
    "                asc_sm=ll.Beta(0., fixed=True),\n",
    "                time=0.,\n",
    "                cost=0.,\n",
    "                moon=0.)\n",
    "\n",
    "utilities_moon = {\n",
    "    # train\n",
    "    1: lambda b, d: betas_moon.get('asc_train', b) +\n",
    "                        betas_moon.get('time', b) * d['TRAIN_TT'] / 100. +\n",
    "                        betas_moon.get('cost', b) * d['train_cost'] / 100. +\n",
    "                        betas_moon.get('moon', b) * d['phase_moon'] +\n",
    "                        d['train_av_sp'],\n",
    "    # SwissMetro\n",
    "    2: lambda b, d: betas_moon.get('asc_sm', b) +\n",
    "                        betas_moon.get('time', b) * d['SM_TT'] / 100. +\n",
    "                        betas_moon.get('cost', b) * d['sm_cost'] / 100. +\n",
    "                        betas_moon.get('moon', b) * d['phase_moon'] +\n",
    "                        d['sm_av'],\n",
    "    # Car\n",
    "    3: lambda b, d: betas_moon.get('asc_car', b) +\n",
    "                        betas_moon.get('time', b) * d['CAR_TT'] / 100. +\n",
    "                        betas_moon.get('cost', b) * d['CAR_CO'] / 100. +\n",
    "                        betas_moon.get('moon', b) * d['phase_moon'] +\n",
    "                        d['car_av_sp']\n",
    "}"
   ]
  },
  {
   "cell_type": "code",
   "execution_count": null,
   "metadata": {},
   "outputs": [],
   "source": [
    "estimates_moon = logit.estimate(betas_moon, utilities_moon, dataset_moon.CHOICE, dataset_moon)"
   ]
  },
  {
   "cell_type": "code",
   "execution_count": null,
   "metadata": {},
   "outputs": [],
   "source": [
    "ll.likelihood_ratio_p_value(estimates, estimates_moon)"
   ]
  },
  {
   "cell_type": "markdown",
   "metadata": {},
   "source": [
    "As expected, we can reject the fact that the model brings any improvement with really high confidence."
   ]
  }
 ],
 "metadata": {
  "kernelspec": {
   "display_name": "Python 3",
   "language": "python",
   "name": "python3"
  },
  "language_info": {
   "codemirror_mode": {
    "name": "ipython",
    "version": 3
   },
   "file_extension": ".py",
   "mimetype": "text/x-python",
   "name": "python",
   "nbconvert_exporter": "python",
   "pygments_lexer": "ipython3",
   "version": "3.6.6"
  }
 },
 "nbformat": 4,
 "nbformat_minor": 2
}
